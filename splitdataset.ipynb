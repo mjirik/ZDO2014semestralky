{
 "metadata": {
  "name": ""
 },
 "nbformat": 3,
 "nbformat_minor": 0,
 "worksheets": [
  {
   "cells": [
    {
     "cell_type": "code",
     "collapsed": false,
     "input": [
      "import glob\n",
      "import os\n",
      "import shutil\n",
      "\n",
      "# nacitani z adresare\n",
      "def readImageDir(path):\n",
      "    dirs = glob.glob(os.path.join(os.path.normpath(path) ,'*'))\n",
      "    labels = []\n",
      "    files = []\n",
      "    for onedir in dirs:\n",
      "        #print onedir\n",
      "        base, lab = os.path.split(onedir)\n",
      "        if os.path.isdir(onedir):\n",
      "            filesInDir = glob.glob(os.path.join(onedir, '*'))\n",
      "            for onefile in filesInDir:\n",
      "                labels.append(lab)\n",
      "                files.append(onefile)\n",
      "        \n",
      "    return files, labels\n",
      "\n",
      "def splitDataset(path, outputpath, nfirst=10):\n",
      "    dirs = glob.glob(os.path.join(os.path.normpath(path) ,'*'))\n",
      "\n",
      "    if not os.path.exists(outputpath):\n",
      "        os.makedirs(outputpath)\n",
      "\n",
      "    labels = []\n",
      "    files = []\n",
      "    for onedir in dirs:\n",
      "        #print onedir\n",
      "        base, lab = os.path.split(onedir)\n",
      "        \n",
      "        directory = os.path.join(outputpath, lab)\n",
      "        if not os.path.exists(directory):\n",
      "            os.makedirs(directory)\n",
      "        \n",
      "        if os.path.isdir(onedir):\n",
      "            filesInDir = glob.glob(os.path.join(onedir, '*'))\n",
      "            # beru si prvn\u00edch deset soubor\u016f\n",
      "            # \u0161lo by upravit i pro n\u00e1hodn\u00fd v\u00fdb\u011br\n",
      "            filesInDir.sort()\n",
      "            filesInDir = filesInDir[:nfirst]\n",
      "            for onefile in filesInDir:\n",
      "                base, srcfile = os.path.split(onefile)\n",
      "                destfile = os.path.join(directory, srcfile)\n",
      "                print onefile, '  ', destfile\n",
      "                \n",
      "                shutil.copy2(onefile, destfile)\n",
      "                #labels.append(lab)\n",
      "                #files.append(onefile)\n",
      "        \n",
      "    return files, labels\n"
     ],
     "language": "python",
     "metadata": {},
     "outputs": [],
     "prompt_number": 14
    },
    {
     "cell_type": "code",
     "collapsed": false,
     "input": [
      "# rozd\u011blen\u00ed datasetu. Vezme se v\u017edy prvn\u00edch deset soubor\u016f z dan\u00e9ho adres\u00e1\u0159e\n",
      "#splitDataset('/home/mjirik/data/zdo2014/znacky/','/home/mjirik/data/zdo2014/znacky-testing/')\n",
      "import random\n",
      "import numpy as np\n",
      "arr = ['agg', 'bag', 'dada', 'rea', 'raw', 'rwew', 'sra', 'reew']\n",
      "ind = np.random.random_integers(7,size=3)\n",
      "\n",
      "arr.pop(ind)"
     ],
     "language": "python",
     "metadata": {},
     "outputs": [
      {
       "ename": "TypeError",
       "evalue": "only length-1 arrays can be converted to Python scalars",
       "output_type": "pyerr",
       "traceback": [
        "\u001b[1;31m---------------------------------------------------------------------------\u001b[0m\n\u001b[1;31mTypeError\u001b[0m                                 Traceback (most recent call last)",
        "\u001b[1;32m<ipython-input-34-94899c126f3e>\u001b[0m in \u001b[0;36m<module>\u001b[1;34m()\u001b[0m\n\u001b[0;32m      6\u001b[0m \u001b[0mind\u001b[0m \u001b[1;33m=\u001b[0m \u001b[0mnp\u001b[0m\u001b[1;33m.\u001b[0m\u001b[0mrandom\u001b[0m\u001b[1;33m.\u001b[0m\u001b[0mrandom_integers\u001b[0m\u001b[1;33m(\u001b[0m\u001b[1;36m7\u001b[0m\u001b[1;33m,\u001b[0m\u001b[0msize\u001b[0m\u001b[1;33m=\u001b[0m\u001b[1;36m3\u001b[0m\u001b[1;33m)\u001b[0m\u001b[1;33m\u001b[0m\u001b[0m\n\u001b[0;32m      7\u001b[0m \u001b[1;33m\u001b[0m\u001b[0m\n\u001b[1;32m----> 8\u001b[1;33m \u001b[0marr\u001b[0m\u001b[1;33m.\u001b[0m\u001b[0mpop\u001b[0m\u001b[1;33m(\u001b[0m\u001b[0mind\u001b[0m\u001b[1;33m)\u001b[0m\u001b[1;33m\u001b[0m\u001b[0m\n\u001b[0m",
        "\u001b[1;31mTypeError\u001b[0m: only length-1 arrays can be converted to Python scalars"
       ]
      }
     ],
     "prompt_number": 34
    }
   ],
   "metadata": {}
  }
 ]
}