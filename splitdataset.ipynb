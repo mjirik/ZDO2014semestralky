{
 "metadata": {
  "name": ""
 },
 "nbformat": 3,
 "nbformat_minor": 0,
 "worksheets": [
  {
   "cells": [
    {
     "cell_type": "code",
     "collapsed": false,
     "input": [
      "import glob\n",
      "import os\n",
      "import shutil\n",
      "\n",
      "# nacitani z adresare\n",
      "def readImageDir(path):\n",
      "    dirs = glob.glob(os.path.join(os.path.normpath(path) ,'*'))\n",
      "    labels = []\n",
      "    files = []\n",
      "    for onedir in dirs:\n",
      "        #print onedir\n",
      "        base, lab = os.path.split(onedir)\n",
      "        if os.path.isdir(onedir):\n",
      "            filesInDir = glob.glob(os.path.join(onedir, '*'))\n",
      "            for onefile in filesInDir:\n",
      "                labels.append(lab)\n",
      "                files.append(onefile)\n",
      "        \n",
      "    return files, labels\n",
      "\n",
      "def splitDataset(path, outputpath, nstart=0, nstop=30):\n",
      "    dirs = glob.glob(os.path.join(os.path.normpath(path) ,'*'))\n",
      "\n",
      "    if not os.path.exists(outputpath):\n",
      "        os.makedirs(outputpath)\n",
      "\n",
      "    labels = []\n",
      "    files = []\n",
      "    for onedir in dirs:\n",
      "        #print onedir\n",
      "        base, lab = os.path.split(onedir)\n",
      "        \n",
      "        directory = os.path.join(outputpath, lab)\n",
      "        if not os.path.exists(directory):\n",
      "            os.makedirs(directory)\n",
      "        \n",
      "        if os.path.isdir(onedir):\n",
      "            filesInDir = glob.glob(os.path.join(onedir, '*'))\n",
      "            # beru si prvn\u00edch deset soubor\u016f\n",
      "            # \u0161lo by upravit i pro n\u00e1hodn\u00fd v\u00fdb\u011br\n",
      "            filesInDir.sort()\n",
      "            filesInDir = filesInDir[nstart:nstop]\n",
      "            for onefile in filesInDir:\n",
      "                base, srcfile = os.path.split(onefile)\n",
      "                destfile = os.path.join(directory, srcfile)\n",
      "                print onefile, '  ', destfile\n",
      "                \n",
      "                shutil.copy2(onefile, destfile)\n",
      "                #labels.append(lab)\n",
      "                #files.append(onefile)\n",
      "        \n",
      "    return files, labels\n"
     ],
     "language": "python",
     "metadata": {},
     "outputs": [],
     "prompt_number": 1
    },
    {
     "cell_type": "code",
     "collapsed": false,
     "input": [
      "# rozd\u011blen\u00ed datasetu. Vezme se v\u017edy prvn\u00edch deset soubor\u016f z dan\u00e9ho adres\u00e1\u0159e\n",
      "#splitDataset('/home/mjirik/data/zdo2014/zdo2014-training/','/home/mjirik/data/zdo2014/zdo2014-training1/', 0, 30)\n",
      "#splitDataset('/home/mjirik/data/zdo2014/zdo2014-training/','/home/mjirik/data/zdo2014/zdo2014-training2/', 30, 60)\n",
      "#splitDataset('/home/mjirik/data/zdo2014/zdo2014-training/','/home/mjirik/data/zdo2014/zdo2014-training3/', 60, -1)\n"
     ],
     "language": "python",
     "metadata": {},
     "outputs": [],
     "prompt_number": 3
    }
   ],
   "metadata": {}
  }
 ]
}