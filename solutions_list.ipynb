{
 "metadata": {
  "name": ""
 },
 "nbformat": 3,
 "nbformat_minor": 0,
 "worksheets": [
  {
   "cells": [
    {
     "cell_type": "code",
     "collapsed": false,
     "input": [
      "#  [zip url, direcoty name, package name, team label]\n",
      "solutions_list = [\n",
      "    ['https://github.com/mjirik/ZDO2014sample_solution/archive/master.zip',\n",
      "     'ZDO2014sample_solution-master',\n",
      "     'ZDO2014sample_solution',\n",
      "     'sample M. Jirik'],\n",
      "    #[p\u0159ipraveno na dal\u0161\u00ed]\n",
      "]"
     ],
     "language": "python",
     "metadata": {},
     "outputs": []
    }
   ],
   "metadata": {}
  }
 ]
}