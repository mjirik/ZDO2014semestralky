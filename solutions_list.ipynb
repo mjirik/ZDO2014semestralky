{
 "metadata": {
  "name": ""
 },
 "nbformat": 3,
 "nbformat_minor": 0,
 "worksheets": [
  {
   "cells": [
    {
     "cell_type": "code",
     "collapsed": false,
     "input": [
      "#  [zip url, direcoty name, package name, team label, identifier_for_same_named_dirs]\n",
      "solutions_list = [\n",
      "    ['https://github.com/mjirik/ZDO2014sample_solution/archive/master.zip',\n",
      "     'ZDO2014sample_solution-master',\n",
      "     'ZDO2014sample_solution',\n",
      "     'sample M. Jirik',\n",
      "     ''],\n",
      "    ['https://github.com/cervenym/ZDO/archive/master.zip',\n",
      "     'ZDO-master',\n",
      "     'vypracovaniLINUX',\n",
      "     'cervenym',\n",
      "     ''],\n",
      "    ['https://github.com/nedvedj/Semestralka/archive/master.zip',\n",
      "     'Semestralka-master',\n",
      "     'ZDO_A13N0141P_JakubNedved_SP',\n",
      "     'nedvedj',\n",
      "     \n",
      "     ''],\n",
      "    ['https://github.com/TheLosPavlos/Semestralka/archive/master.zip',\n",
      "     'Semestralka-master',\n",
      "     'ZDO2014juna_rak_hejdova_hog',\n",
      "     'RakHejdovaJuna',\n",
      "     '1'],\n",
      "    # toto je dusledek nestejne verze scipy. Musel jsem to pretrenovat na \n",
      "    # svem stroji\n",
      "    #['https://github.com/mjirik/Semestralka/archive/master.zip',\n",
      "    # 'Semestralka-master',\n",
      "    # 'ZDO2014juna_rak_hejdova_hog',\n",
      "    # 'RakHejdovaJuna2',\n",
      "    # '2'],\n",
      "    #['https://github.com/mjirik/ZDO14nedvedj/archive/master.zip',\n",
      "    # 'ZDO14nedvedj-master',\n",
      "    # 'ZDO_A13N0141P_JakubNedved_SP',\n",
      "    # 'nedvedj2',\n",
      "    # '3'],    \n",
      "    \n",
      "    #[p\u0159ipraveno na dal\u0161\u00ed]\n",
      "]"
     ],
     "language": "python",
     "metadata": {},
     "outputs": []
    }
   ],
   "metadata": {}
  }
 ]
}