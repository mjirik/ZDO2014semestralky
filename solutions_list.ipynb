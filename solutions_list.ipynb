{
 "metadata": {
  "name": ""
 },
 "nbformat": 3,
 "nbformat_minor": 0,
 "worksheets": [
  {
   "cells": [
    {
     "cell_type": "code",
     "collapsed": false,
     "input": [
      "#  [zip url, direcoty name, package name, team label]\n",
      "solutions_list = [\n",
      "    #[\"https://raw.githubusercontent.com/mjirik/ZDO/master/ZDO2014sample_solution.py\", 'ZDO2014sample_solution', 'sample M. Jirik'],\n",
      "    ['https://github.com/mjirik/ZDO2014sample_solution/archive/master.zip',  'ZDO2014sample_solution-master', 'ZDO2014sample_solution', 'sample M. Jirik'],\n",
      "]"
     ],
     "language": "python",
     "metadata": {},
     "outputs": []
    }
   ],
   "metadata": {}
  }
 ]
}