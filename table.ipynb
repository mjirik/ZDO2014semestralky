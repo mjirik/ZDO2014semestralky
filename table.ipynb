{
 "metadata": {
  "name": ""
 },
 "nbformat": 3,
 "nbformat_minor": 0,
 "worksheets": [
  {
   "cells": [
    {
     "cell_type": "heading",
     "level": 1,
     "metadata": {},
     "source": [
      "V\u0161echny experimenty"
     ]
    },
    {
     "cell_type": "code",
     "collapsed": false,
     "input": [
      "import pandas as pd\n",
      "orig_data = pd.read_csv(\"ZDO2014evaluation.csv\")\n",
      "print orig_data\n",
      "\n"
     ],
     "language": "python",
     "metadata": {},
     "outputs": [
      {
       "output_type": "stream",
       "stream": "stdout",
       "text": [
        "              team     score        date             time\n",
        "0  sample M. Jirik  0.281553  2014-04-15  13:42:50.240267\n",
        "1  sample M. Jirik  0.300971  2014-04-15  13:43:19.413250\n",
        "2  sample M. Jirik  0.233010  2014-04-15  13:43:32.353484\n",
        "3  sample M. Jirik  0.298077  2014-04-15  19:53:41.919069\n",
        "4         cervenym  0.000000  2014-04-15  19:53:41.922450\n",
        "5  sample M. Jirik  0.298077  2014-04-16  13:10:01.890976\n",
        "6         cervenym  0.000000  2014-04-16  13:10:01.894514\n",
        "7  sample M. Jirik  0.233010  2014-04-16  13:17:41.659961\n",
        "8         cervenym  0.116505  2014-04-16  13:17:51.165174\n"
       ]
      }
     ],
     "prompt_number": 5
    },
    {
     "cell_type": "heading",
     "level": 2,
     "metadata": {},
     "source": [
      "Se\u0159azeno od nejlep\u0161\u00edch"
     ]
    },
    {
     "cell_type": "code",
     "collapsed": false,
     "input": [
      "#orig_data.sort(column=['score'], ascending=False)\n",
      "#print orig_data\n",
      "gb = orig_data.groupby('team')\n",
      "print gb.max().sort(column=['score'], ascending=False)"
     ],
     "language": "python",
     "metadata": {},
     "outputs": [
      {
       "output_type": "stream",
       "stream": "stdout",
       "text": [
        "                            team      score        date             time\n",
        "team                                                                    \n",
        "sample M. Jirik  sample M. Jirik  0.3009709  2014-04-16  19:53:41.919069\n",
        "cervenym                cervenym  0.1165049  2014-04-16  19:53:41.922450\n"
       ]
      },
      {
       "metadata": {},
       "output_type": "pyout",
       "prompt_number": 36,
       "text": [
        "'result'"
       ]
      }
     ],
     "prompt_number": 36
    }
   ],
   "metadata": {}
  }
 ]
}