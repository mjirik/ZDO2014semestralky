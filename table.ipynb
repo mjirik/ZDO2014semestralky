{
 "metadata": {
  "name": ""
 },
 "nbformat": 3,
 "nbformat_minor": 0,
 "worksheets": [
  {
   "cells": [
    {
     "cell_type": "heading",
     "level": 1,
     "metadata": {},
     "source": [
      "Nejlep\u0161\u00ed v\u00fdsledky ka\u017ed\u00e9ho t\u00fdmu"
     ]
    },
    {
     "cell_type": "code",
     "collapsed": false,
     "input": [
      "import pandas as pd\n",
      "orig_data = pd.read_csv(\"ZDO2014evaluation.csv\")\n",
      "#orig_data.sort(column=['score'], ascending=False)\n",
      "#print orig_data\n",
      "gb = orig_data.groupby('team')\n",
      "print gb.max().sort(column=['score'], ascending=False)"
     ],
     "language": "python",
     "metadata": {},
     "outputs": [
      {
       "output_type": "stream",
       "stream": "stdout",
       "text": [
        "                            team      score        date             time\n",
        "team                                                                    \n",
        "sample M. Jirik  sample M. Jirik  0.3009709  2014-04-16  19:53:41.919069\n",
        "cervenym                cervenym  0.1165049  2014-04-16  19:53:41.922450\n"
       ]
      }
     ],
     "prompt_number": 2
    },
    {
     "cell_type": "heading",
     "level": 1,
     "metadata": {},
     "source": [
      "V\u0161echny experimenty"
     ]
    },
    {
     "cell_type": "code",
     "collapsed": false,
     "input": [
      "print orig_data"
     ],
     "language": "python",
     "metadata": {},
     "outputs": [
      {
       "output_type": "stream",
       "stream": "stdout",
       "text": [
        "               team     score        date             time\n",
        "0   sample M. Jirik  0.281553  2014-04-15  13:42:50.240267\n",
        "1   sample M. Jirik  0.300971  2014-04-15  13:43:19.413250\n",
        "2   sample M. Jirik  0.233010  2014-04-15  13:43:32.353484\n",
        "3   sample M. Jirik  0.298077  2014-04-15  19:53:41.919069\n",
        "4          cervenym  0.000000  2014-04-15  19:53:41.922450\n",
        "5   sample M. Jirik  0.298077  2014-04-16  13:10:01.890976\n",
        "6          cervenym  0.000000  2014-04-16  13:10:01.894514\n",
        "7   sample M. Jirik  0.233010  2014-04-16  13:17:41.659961\n",
        "8          cervenym  0.116505  2014-04-16  13:17:51.165174\n",
        "9   sample M. Jirik  0.259615  2014-04-16  16:59:59.467758\n",
        "10         cervenym  0.076923  2014-04-16  17:00:09.051018\n",
        "11  sample M. Jirik  0.300971  2014-04-16  17:00:38.734770\n",
        "12         cervenym  0.067961  2014-04-16  17:00:48.068683\n",
        "13  sample M. Jirik  0.239268  2014-04-16  17:03:24.475401\n",
        "14         cervenym  0.098170  2014-04-16  17:07:43.043243\n"
       ]
      }
     ],
     "prompt_number": 3
    }
   ],
   "metadata": {}
  }
 ]
}