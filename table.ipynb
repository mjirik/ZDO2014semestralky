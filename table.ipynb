{
 "metadata": {
  "name": ""
 },
 "nbformat": 3,
 "nbformat_minor": 0,
 "worksheets": [
  {
   "cells": [
    {
     "cell_type": "heading",
     "level": 1,
     "metadata": {},
     "source": [
      "Nejlep\u0161\u00ed v\u00fdsledky ka\u017ed\u00e9ho t\u00fdmu"
     ]
    },
    {
     "cell_type": "markdown",
     "metadata": {},
     "source": [
      "Zdrojov\u00e1 data pro tuto tabulku jsou dostupn\u00e1 [zde](https://raw.githubusercontent.com/mjirik/ZDO2014semestralky/master/ZDO2014evaluation.csv)"
     ]
    },
    {
     "cell_type": "code",
     "collapsed": false,
     "input": [
      "import pandas as pd\n",
      "orig_data = pd.read_csv(\"ZDO2014evaluation.csv\")\n",
      "#orig_data.sort(column=['score'], ascending=False)\n",
      "#print orig_data\n",
      "gb = orig_data.groupby('team')\n",
      "#print gb.max().sort(column=['score'], ascending=False)\n",
      "\n",
      "gbsort = gb.max().sort(column=['score'], ascending=False)\n",
      "gbsort['score']\n",
      "#tt.tolist()"
     ],
     "language": "python",
     "metadata": {},
     "outputs": [
      {
       "metadata": {},
       "output_type": "pyout",
       "prompt_number": 8,
       "text": [
        "team\n",
        "RakHejdovaJuna      0.940804338003\n",
        "RakHejdovaJuna2      0.78640776699\n",
        "nedvedj             0.699029126214\n",
        "cervenym             0.68932038835\n",
        "sample M. Jirik     0.300970873786\n",
        "nedvedj2           0.0194174757282\n",
        "Name: score, dtype: object"
       ]
      }
     ],
     "prompt_number": 8
    },
    {
     "cell_type": "heading",
     "level": 2,
     "metadata": {},
     "source": [
      "Bodov\u00e1n\u00ed za technickou \u010d\u00e1st funk\u010dnosti"
     ]
    },
    {
     "cell_type": "markdown",
     "metadata": {},
     "source": [
      "K t\u011bmto bod\u016fm jsou pak v hodnocen\u00ed funk\u010dnosti je\u0161t\u011b p\u0159id\u00e1ny body za dokumentaci v k\u00f3du, demo re\u017eim, git atd."
     ]
    },
    {
     "cell_type": "code",
     "collapsed": false,
     "input": [
      "%pylab inline --no-import-all\n",
      "import matplotlib.pyplot as plt\n",
      "\n",
      "print np.power(gbsort['score'].astype(np.double),2)*36\n",
      "\n",
      "## vizualizace progrese\n",
      "te = np.arange(0,1.1,0.1)\n",
      "y = np.power(te,2)*36\n",
      "plt.figure(figsize=(2,1.5))\n",
      "plt.plot(te,y)"
     ],
     "language": "python",
     "metadata": {},
     "outputs": [
      {
       "output_type": "stream",
       "stream": "stdout",
       "text": [
        "Populating the interactive namespace from numpy and matplotlib\n",
        "team\n",
        "RakHejdovaJuna     31.864061\n",
        "RakHejdovaJuna2    22.263738\n",
        "nedvedj            17.591102\n",
        "cervenym           17.105854\n",
        "sample M. Jirik     3.261005\n",
        "nedvedj2            0.013573\n",
        "Name: score, dtype: float64\n"
       ]
      },
      {
       "metadata": {},
       "output_type": "pyout",
       "prompt_number": 9,
       "text": [
        "[<matplotlib.lines.Line2D at 0x7f52e824e590>]"
       ]
      },
      {
       "metadata": {},
       "output_type": "display_data",
       "png": "[encoded data removed]",
       "text": [
        "<matplotlib.figure.Figure at 0x7f52e816b810>"
       ]
      }
     ],
     "prompt_number": 9
    },
    {
     "cell_type": "heading",
     "level": 1,
     "metadata": {},
     "source": [
      "V\u0161echny experimenty"
     ]
    },
    {
     "cell_type": "code",
     "collapsed": false,
     "input": [
      "#pd.set_option('display.max_columns', None)\n",
      "print orig_data.tail(40)\n",
      "#print dir(pd)"
     ],
     "language": "python",
     "metadata": {},
     "outputs": [
      {
       "output_type": "stream",
       "stream": "stdout",
       "text": [
        "                team     score        date             time\n",
        "132          nedvedj  0.323995  2014-06-10  10:27:20.666130\n",
        "133   RakHejdovaJuna  0.940804  2014-06-10  10:28:26.399551\n",
        "134  RakHejdovaJuna2  0.000000  2014-06-10  10:28:26.485093\n",
        "135         nedvedj2  0.000000  2014-06-10  10:28:26.662503\n",
        "136  sample M. Jirik  0.000000  2014-06-10  10:30:10.339569\n",
        "137         cervenym  0.618445  2014-06-10  10:32:06.897540\n",
        "138          nedvedj  0.344937  2014-06-10  10:32:59.784266\n",
        "139   RakHejdovaJuna  0.939873  2014-06-10  10:34:05.136954\n",
        "140  RakHejdovaJuna2  0.000000  2014-06-10  10:34:05.223635\n",
        "141         nedvedj2  0.000000  2014-06-10  10:34:05.401491\n",
        "142  sample M. Jirik  0.000000  2014-06-10  10:40:05.238037\n",
        "143         cervenym  0.629295  2014-06-10  10:42:01.262574\n",
        "144          nedvedj  0.322785  2014-06-10  10:42:54.287133\n",
        "145   RakHejdovaJuna  0.940778  2014-06-10  10:43:58.248363\n",
        "146  RakHejdovaJuna2  0.000000  2014-06-10  10:43:58.333504\n",
        "147         nedvedj2  0.000000  2014-06-10  10:43:58.510197\n",
        "148  sample M. Jirik  0.300497  2014-06-10  10:53:00.830229\n",
        "149         cervenym  0.617262  2014-06-10  10:54:55.937289\n",
        "150          nedvedj  0.323995  2014-06-10  10:55:49.244489\n",
        "151   RakHejdovaJuna  0.940804  2014-06-10  10:56:52.098387\n",
        "152  sample M. Jirik  0.298373  2014-06-20  09:47:57.243949\n",
        "153         cervenym  0.618445  2014-06-20  09:49:51.402369\n",
        "154          nedvedj  0.000000  2014-06-20  09:49:51.403685\n",
        "155   RakHejdovaJuna  0.939873  2014-06-20  09:50:55.445074\n",
        "156  sample M. Jirik  0.250000  2014-06-23  09:26:35.657323\n",
        "157         cervenym  0.673077  2014-06-23  09:26:42.847864\n",
        "158          nedvedj  0.673077  2014-06-23  09:26:44.600640\n",
        "159   RakHejdovaJuna  0.759615  2014-06-23  09:26:49.038464\n",
        "160  sample M. Jirik  0.223301  2014-06-23  09:50:27.159108\n",
        "161         cervenym  0.592233  2014-06-23  09:50:33.911572\n",
        "162          nedvedj  0.699029  2014-06-23  09:50:35.571370\n",
        "163   RakHejdovaJuna  0.718447  2014-06-23  09:50:39.678260\n",
        "164  sample M. Jirik  0.223301  2014-06-23  09:55:08.823339\n",
        "165         cervenym  0.592233  2014-06-23  09:55:15.655003\n",
        "166          nedvedj  0.699029  2014-06-23  09:55:17.301895\n",
        "167   RakHejdovaJuna  0.718447  2014-06-23  09:55:21.398045\n",
        "168  sample M. Jirik  0.174757  2014-06-23  09:57:23.405620\n",
        "169         cervenym  0.543689  2014-06-23  09:57:30.615811\n",
        "170          nedvedj  0.689320  2014-06-23  09:57:32.268525\n",
        "171   RakHejdovaJuna  0.854369  2014-06-23  09:57:36.362442\n",
        "\n",
        "[40 rows x 4 columns]\n"
       ]
      }
     ],
     "prompt_number": 10
    },
    {
     "cell_type": "heading",
     "level": 1,
     "metadata": {},
     "source": [
      "Logovac\u00ed soubor"
     ]
    },
    {
     "cell_type": "markdown",
     "metadata": {},
     "source": [
      "V pr\u016fb\u011bhu vyhodnocov\u00e1n\u00ed je vytv\u00e1\u0159en logovac\u00ed soubor. Nahl\u00e1dnout do n\u011bj m\u016f\u017eete [zde](https://raw.githubusercontent.com/mjirik/ZDO2014semestralky/master/znacky.log). Z\u00e1kladem je modul logging. Ten pak pou\u017e\u00edv\u00e1te nam\u00edsto printu. "
     ]
    },
    {
     "cell_type": "markdown",
     "metadata": {},
     "source": [
      "Tyto \u0159\u00e1dky p\u0159idejte na za\u010d\u00e1tek souboru k ostatn\u00edm import\u016fm"
     ]
    },
    {
     "cell_type": "code",
     "collapsed": false,
     "input": [
      "import logging\n",
      "logger = logging.getLogger(__name__)"
     ],
     "language": "python",
     "metadata": {},
     "outputs": [],
     "prompt_number": 11
    },
    {
     "cell_type": "markdown",
     "metadata": {},
     "source": [
      "Tento \u0159\u00e1dek p\u0159ijde do funkce main"
     ]
    },
    {
     "cell_type": "code",
     "collapsed": false,
     "input": [
      "logging.basicConfig(level=logging.DEBUG)"
     ],
     "language": "python",
     "metadata": {},
     "outputs": [],
     "prompt_number": 12
    },
    {
     "cell_type": "markdown",
     "metadata": {},
     "source": [
      "A takto si vypisujete libovoln\u00e9 zpr\u00e1vy pomoc\u00ed loggeru."
     ]
    },
    {
     "cell_type": "code",
     "collapsed": false,
     "input": [
      "logger.debug('muj vypis cislo ' + str(1))"
     ],
     "language": "python",
     "metadata": {},
     "outputs": [],
     "prompt_number": 13
    },
    {
     "cell_type": "heading",
     "level": 1,
     "metadata": {},
     "source": [
      "Matice z\u00e1m\u011bn (confusion matrix)"
     ]
    },
    {
     "cell_type": "markdown",
     "metadata": {},
     "source": [
      "Matice z\u00e1m\u011bn ukazuje, kolikr\u00e1t byl label $i$ klasifikov\u00e1n jako $j$. V ide\u00e1ln\u00edm p\u0159\u00edpad\u011b jsou tedy nenulov\u00e1 \u010d\u00edsla pouze na diagon\u00e1le. Tam jsou spr\u00e1vn\u00e9 klasifikace. Jak to m\u011blo dopadnout ukazuj\u00ed data pojmenovan\u00e1 *reference*\n",
      "\n",
      "Zdrojov\u00e1 data lze naj\u00edt [zde](https://raw.githubusercontent.com/mjirik/ZDO2014semestralky/master/ZDO2014classifs.csv)"
     ]
    },
    {
     "cell_type": "code",
     "collapsed": false,
     "input": [
      "%pylab inline --no-import-all\n",
      "import sklearn\n",
      "import sklearn.metrics\n",
      "import matplotlib.pyplot as plt\n",
      "\n",
      "df = pd.read_csv(\"ZDO2014classifs.csv\")\n",
      "\n",
      "cols = df.columns\n",
      "\n",
      "\n",
      "print cols\n",
      "\n",
      "# z\u00edsk\u00e1me seznam v\u0161ech label\u016f zna\u010dek, kter\u00e9 jsou v testu\n",
      "unlabels = np.unique(df['reference'].values)\n",
      "# p\u0159evedeme do \u010d\u00edsel (index\u016f)\n",
      "y_true = np.searchsorted(unlabels, df['reference'].values)\n",
      "print unlabels\n",
      "\n",
      "for col in cols:\n",
      "    y_pred = np.searchsorted(unlabels, df[col].values)\n",
      "    cmat = sklearn.metrics.confusion_matrix(y_true, y_pred)\n",
      "    plt.matshow(cmat)\n",
      "    plt.title(col)"
     ],
     "language": "python",
     "metadata": {},
     "outputs": [
      {
       "output_type": "stream",
       "stream": "stdout",
       "text": [
        "Populating the interactive namespace from numpy and matplotlib\n",
        "Index([u'RakHejdovaJuna', u'cervenym', u'nedvedj', u'reference', u'sample M. Jirik'], dtype='object')\n",
        "['A11' 'A22' 'A24' 'B13' 'B16' 'B2' 'B20a' 'B21a' 'B24a' 'B24b' 'B28' 'B29'\n",
        " 'B4' 'C4a' 'C4c' 'E13' 'E2b' 'E3a' 'E4' 'E7b' 'E9' 'IJ4a' 'IJ4b' 'IJ7'\n",
        " 'IP11a' 'IP15a' 'IP15b' 'IP18b' 'IP19' 'IP5' 'IP6' 'IS12a' 'IS12b' 'IS18a'\n",
        " 'IS18b' 'IS23' 'IS24b' 'IS2c' 'IS3a' 'IS3b' 'IS3c' 'IS3d' 'IS5' 'IS6a'\n",
        " 'IS6b' 'IS6e' 'IS6f' 'IS6g' 'IS7a' 'IS8b' 'IS9a' 'P1' 'P2' 'P4' 'X1' 'X2'\n",
        " 'X3' 'Z3' 'Z4a' 'Z4b' 'Z4c' 'Z4d']\n"
       ]
      },
      {
       "metadata": {},
       "output_type": "display_data",
       "png": "[encoded data removed]",
       "text": [
        "<matplotlib.figure.Figure at 0x7f52e803e110>"
       ]
      },
      {
       "metadata": {},
       "output_type": "display_data",
       "png": "[encoded data removed]",
       "text": [
        "<matplotlib.figure.Figure at 0x7f52e82fc5d0>"
       ]
      },
      {
       "metadata": {},
       "output_type": "display_data",
       "png": "[encoded data removed]",
       "text": [
        "<matplotlib.figure.Figure at 0x7f52e8179090>"
       ]
      },
      {
       "metadata": {},
       "output_type": "display_data",
       "png": "[encoded data removed]",
       "text": [
        "<matplotlib.figure.Figure at 0x7f52e808f190>"
       ]
      },
      {
       "metadata": {},
       "output_type": "display_data",
       "png": "[encoded data removed]",
       "text": [
        "<matplotlib.figure.Figure at 0x7f52e81e9d10>"
       ]
      }
     ],
     "prompt_number": 14
    }
   ],
   "metadata": {}
  }
 ]
}