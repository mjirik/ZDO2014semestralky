{
 "metadata": {
  "name": ""
 },
 "nbformat": 3,
 "nbformat_minor": 0,
 "worksheets": [
  {
   "cells": [
    {
     "cell_type": "heading",
     "level": 1,
     "metadata": {},
     "source": [
      "Nejlep\u0161\u00ed v\u00fdsledky ka\u017ed\u00e9ho t\u00fdmu"
     ]
    },
    {
     "cell_type": "markdown",
     "metadata": {},
     "source": [
      "Zdrojov\u00e1 data pro tuto tabulku jsou dostupn\u00e1 [zde](https://raw.githubusercontent.com/mjirik/ZDO2014semestralky/master/ZDO2014evaluation.csv)"
     ]
    },
    {
     "cell_type": "code",
     "collapsed": false,
     "input": [
      "import pandas as pd\n",
      "orig_data = pd.read_csv(\"ZDO2014evaluation.csv\")\n",
      "#orig_data.sort(column=['score'], ascending=False)\n",
      "#print orig_data\n",
      "gb = orig_data.groupby('team')\n",
      "print gb.max().sort(column=['score'], ascending=False)"
     ],
     "language": "python",
     "metadata": {},
     "outputs": [
      {
       "output_type": "stream",
       "stream": "stdout",
       "text": [
        "                            team      score        date             time\n",
        "team                                                                    \n",
        "sample M. Jirik  sample M. Jirik  0.3009709  2014-04-24  21:12:36.170486\n",
        "cervenym                cervenym  0.1359223  2014-04-24  21:12:45.661129\n"
       ]
      }
     ],
     "prompt_number": 1
    },
    {
     "cell_type": "heading",
     "level": 1,
     "metadata": {},
     "source": [
      "V\u0161echny experimenty"
     ]
    },
    {
     "cell_type": "code",
     "collapsed": false,
     "input": [
      "print orig_data"
     ],
     "language": "python",
     "metadata": {},
     "outputs": [
      {
       "output_type": "stream",
       "stream": "stdout",
       "text": [
        "               team     score        date             time\n",
        "0   sample M. Jirik  0.281553  2014-04-15  13:42:50.240267\n",
        "1   sample M. Jirik  0.300971  2014-04-15  13:43:19.413250\n",
        "2   sample M. Jirik  0.233010  2014-04-15  13:43:32.353484\n",
        "3   sample M. Jirik  0.298077  2014-04-15  19:53:41.919069\n",
        "4          cervenym  0.000000  2014-04-15  19:53:41.922450\n",
        "5   sample M. Jirik  0.298077  2014-04-16  13:10:01.890976\n",
        "6          cervenym  0.000000  2014-04-16  13:10:01.894514\n",
        "7   sample M. Jirik  0.233010  2014-04-16  13:17:41.659961\n",
        "8          cervenym  0.116505  2014-04-16  13:17:51.165174\n",
        "9   sample M. Jirik  0.259615  2014-04-16  16:59:59.467758\n",
        "10         cervenym  0.076923  2014-04-16  17:00:09.051018\n",
        "11  sample M. Jirik  0.300971  2014-04-16  17:00:38.734770\n",
        "12         cervenym  0.067961  2014-04-16  17:00:48.068683\n",
        "13  sample M. Jirik  0.239268  2014-04-16  17:03:24.475401\n",
        "14         cervenym  0.098170  2014-04-16  17:07:43.043243\n",
        "15  sample M. Jirik  0.298077  2014-04-16  18:30:11.980713\n",
        "16         cervenym  0.105769  2014-04-16  18:30:21.338506\n",
        "17  sample M. Jirik  0.259615  2014-04-16  21:12:36.170486\n",
        "18         cervenym  0.076923  2014-04-16  21:12:45.661129\n",
        "19  sample M. Jirik  0.233010  2014-04-23  15:36:54.821274\n",
        "20         cervenym  0.000000  2014-04-23  15:36:54.824382\n",
        "21  sample M. Jirik  0.281553  2014-04-23  15:37:31.588206\n",
        "22         cervenym  0.000000  2014-04-23  15:37:31.591394\n",
        "23  sample M. Jirik  0.281553  2014-04-23  15:49:24.612530\n",
        "24         cervenym  0.000000  2014-04-23  15:49:24.615682\n",
        "25  sample M. Jirik  0.298077  2014-04-23  15:51:30.159132\n",
        "26         cervenym  0.000000  2014-04-23  15:51:30.162919\n",
        "27  sample M. Jirik  0.259615  2014-04-23  15:52:14.911190\n",
        "28         cervenym  0.000000  2014-04-23  15:52:14.912627\n",
        "29  sample M. Jirik  0.259615  2014-04-23  15:53:39.892102\n",
        "30         cervenym  0.000000  2014-04-23  15:53:39.893484\n",
        "31  sample M. Jirik  0.281553  2014-04-24  08:42:28.665234\n",
        "32         cervenym  0.135922  2014-04-24  08:42:38.219276\n",
        "33  sample M. Jirik  0.259615  2014-04-24  08:43:55.466716\n",
        "34         cervenym  0.076923  2014-04-24  08:44:04.944597\n",
        "35  sample M. Jirik  0.233010  2014-04-24  08:45:36.201998\n",
        "36         cervenym  0.116505  2014-04-24  08:45:45.849523\n"
       ]
      }
     ],
     "prompt_number": 2
    },
    {
     "cell_type": "heading",
     "level": 1,
     "metadata": {},
     "source": [
      "Matice z\u00e1m\u011bn (confusion matrix)"
     ]
    },
    {
     "cell_type": "markdown",
     "metadata": {},
     "source": [
      "Matice z\u00e1m\u011bn ukazuje, kolikr\u00e1t byl label $i$ klasifikov\u00e1n jako $j$. V ide\u00e1ln\u00edm p\u0159\u00edpad\u011b jsou tedy nenulov\u00e1 \u010d\u00edsla pouze na diagon\u00e1le. Tam jsou spr\u00e1vn\u00e9 klasifikace. Jak to m\u011blo dopadnout ukazuj\u00ed data pojmenovan\u00e1 *reference*\n",
      "\n",
      "Zdrojov\u00e1 data lze naj\u00edt [zde](https://raw.githubusercontent.com/mjirik/ZDO2014semestralky/master/ZDO2014classifs.csv)"
     ]
    },
    {
     "cell_type": "code",
     "collapsed": false,
     "input": [
      "%pylab inline --no-import-all\n",
      "import sklearn\n",
      "import sklearn.metrics\n",
      "import matplotlib.pyplot as plt\n",
      "\n",
      "df = pd.read_csv(\"ZDO2014classifs.csv\")\n",
      "\n",
      "cols = df.columns\n",
      "\n",
      "\n",
      "print cols\n",
      "\n",
      "# z\u00edsk\u00e1me seznam v\u0161ech label\u016f zna\u010dek, kter\u00e9 jsou v testu\n",
      "unlabels = np.unique(df['reference'].values)\n",
      "# p\u0159evedeme do \u010d\u00edsel (index\u016f)\n",
      "y_true = np.searchsorted(unlabels, df['reference'].values)\n",
      "print unlabels\n",
      "\n",
      "for col in cols:\n",
      "    y_pred = np.searchsorted(unlabels, df[col].values)\n",
      "    cmat = sklearn.metrics.confusion_matrix(y_true, y_pred)\n",
      "    plt.matshow(cmat)\n",
      "    plt.title(col)"
     ],
     "language": "python",
     "metadata": {},
     "outputs": [
      {
       "output_type": "stream",
       "stream": "stdout",
       "text": [
        "Populating the interactive namespace from numpy and matplotlib\n",
        "array(['cervenym', 'reference', 'sample M. Jirik'], dtype=object)"
       ]
      },
      {
       "output_type": "stream",
       "stream": "stdout",
       "text": [
        "\n",
        "['A11' 'A22' 'A24' 'B13' 'B16' 'B2' 'B20a' 'B21a' 'B24a' 'B24b' 'B28' 'B29'\n",
        " 'B4' 'C4a' 'C4c' 'E13' 'E2b' 'E3a' 'E4' 'E7b' 'E9' 'IJ4a' 'IJ4b' 'IJ7'\n",
        " 'IP11a' 'IP15a' 'IP15b' 'IP18b' 'IP19' 'IP5' 'IP6' 'IS12a' 'IS12b' 'IS18a'\n",
        " 'IS18b' 'IS23' 'IS24b' 'IS2c' 'IS3a' 'IS3b' 'IS3c' 'IS3d' 'IS5' 'IS6a'\n",
        " 'IS6b' 'IS6e' 'IS6f' 'IS6g' 'IS7a' 'IS8b' 'IS9a' 'P1' 'P2' 'P4' 'X1' 'X2'\n",
        " 'X3' 'Z3' 'Z4a' 'Z4b' 'Z4c' 'Z4d']\n"
       ]
      },
      {
       "metadata": {},
       "output_type": "display_data",
       "png": "[encoded data removed]",
       "text": [
        "<matplotlib.figure.Figure at 0x36f0c90>"
       ]
      },
      {
       "metadata": {},
       "output_type": "display_data",
       "png": "[encoded data removed]",
       "text": [
        "<matplotlib.figure.Figure at 0x381e090>"
       ]
      },
      {
       "metadata": {},
       "output_type": "display_data",
       "png": "[encoded data removed]",
       "text": [
        "<matplotlib.figure.Figure at 0x39bb710>"
       ]
      }
     ],
     "prompt_number": 3
    }
   ],
   "metadata": {}
  }
 ]
}