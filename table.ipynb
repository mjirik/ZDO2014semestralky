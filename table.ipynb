{
 "metadata": {
  "name": ""
 },
 "nbformat": 3,
 "nbformat_minor": 0,
 "worksheets": [
  {
   "cells": [
    {
     "cell_type": "heading",
     "level": 1,
     "metadata": {},
     "source": [
      "Nejlep\u0161\u00ed v\u00fdsledky ka\u017ed\u00e9ho t\u00fdmu"
     ]
    },
    {
     "cell_type": "markdown",
     "metadata": {},
     "source": [
      "Zdrojov\u00e1 data pro tuto tabulku jsou dostupn\u00e1 [zde](https://raw.githubusercontent.com/mjirik/ZDO2014semestralky/master/ZDO2014evaluation.csv)"
     ]
    },
    {
     "cell_type": "code",
     "collapsed": false,
     "input": [
      "import pandas as pd\n",
      "orig_data = pd.read_csv(\"ZDO2014evaluation.csv\")\n",
      "#orig_data.sort(column=['score'], ascending=False)\n",
      "#print orig_data\n",
      "gb = orig_data.groupby('team')\n",
      "#print gb.max().sort(column=['score'], ascending=False)\n",
      "\n",
      "gbsort = gb.max().sort(column=['score'], ascending=False)\n",
      "gbsort['score']\n",
      "#tt.tolist()"
     ],
     "language": "python",
     "metadata": {},
     "outputs": [
      {
       "metadata": {},
       "output_type": "pyout",
       "prompt_number": 1,
       "text": [
        "team\n",
        "RakHejdovaJuna2    0.7596154\n",
        "cervenym           0.6893204\n",
        "sample M. Jirik    0.3009709\n",
        "nedvedj                    0\n",
        "RakHejdovaJuna             0\n",
        "Name: score"
       ]
      }
     ],
     "prompt_number": 1
    },
    {
     "cell_type": "heading",
     "level": 2,
     "metadata": {},
     "source": [
      "Bodov\u00e1n\u00ed za technickou \u010d\u00e1st funk\u010dnosti"
     ]
    },
    {
     "cell_type": "markdown",
     "metadata": {},
     "source": [
      "K t\u011bmto bod\u016fm jsou pak v hodnocen\u00ed funk\u010dnosti je\u0161t\u011b p\u0159id\u00e1ny body za dokumentaci v k\u00f3du, demo re\u017eim, git atd."
     ]
    },
    {
     "cell_type": "code",
     "collapsed": false,
     "input": [
      "%pylab inline --no-import-all\n",
      "np.power(gbsort['score'],2)*36\n",
      "\n",
      "## vizualizace progrese\n",
      "#te = np.arange(0,1.1,0.1)\n",
      "#y = np.power(te,2)*36\n",
      "\n",
      "#import matplotlib.pyplot as plt\n",
      "#plt.plot(te,y)"
     ],
     "language": "python",
     "metadata": {},
     "outputs": [
      {
       "output_type": "stream",
       "stream": "stdout",
       "text": [
        "Populating the interactive namespace from numpy and matplotlib\n"
       ]
      },
      {
       "metadata": {},
       "output_type": "pyout",
       "prompt_number": 2,
       "text": [
        "team\n",
        "RakHejdovaJuna2    20.77256\n",
        "cervenym           17.10585\n",
        "sample M. Jirik    3.261005\n",
        "nedvedj                   0\n",
        "RakHejdovaJuna            0\n",
        "Name: score"
       ]
      }
     ],
     "prompt_number": 2
    },
    {
     "cell_type": "heading",
     "level": 1,
     "metadata": {},
     "source": [
      "V\u0161echny experimenty"
     ]
    },
    {
     "cell_type": "code",
     "collapsed": false,
     "input": [
      "#pd.set_option('display.max_columns', None)\n",
      "print orig_data\n",
      "#print dir(pd)"
     ],
     "language": "python",
     "metadata": {},
     "outputs": [
      {
       "output_type": "stream",
       "stream": "stdout",
       "text": [
        "               team     score        date             time\n",
        "0   sample M. Jirik  0.281553  2014-04-15  13:42:50.240267\n",
        "1   sample M. Jirik  0.300971  2014-04-15  13:43:19.413250\n",
        "2   sample M. Jirik  0.233010  2014-04-15  13:43:32.353484\n",
        "3   sample M. Jirik  0.298077  2014-04-15  19:53:41.919069\n",
        "4          cervenym  0.000000  2014-04-15  19:53:41.922450\n",
        "5   sample M. Jirik  0.298077  2014-04-16  13:10:01.890976\n",
        "6          cervenym  0.000000  2014-04-16  13:10:01.894514\n",
        "7   sample M. Jirik  0.233010  2014-04-16  13:17:41.659961\n",
        "8          cervenym  0.116505  2014-04-16  13:17:51.165174\n",
        "9   sample M. Jirik  0.259615  2014-04-16  16:59:59.467758\n",
        "10         cervenym  0.076923  2014-04-16  17:00:09.051018\n",
        "11  sample M. Jirik  0.300971  2014-04-16  17:00:38.734770\n",
        "12         cervenym  0.067961  2014-04-16  17:00:48.068683\n",
        "13  sample M. Jirik  0.239268  2014-04-16  17:03:24.475401\n",
        "14         cervenym  0.098170  2014-04-16  17:07:43.043243\n",
        "15  sample M. Jirik  0.298077  2014-04-16  18:30:11.980713\n",
        "16         cervenym  0.105769  2014-04-16  18:30:21.338506\n",
        "17  sample M. Jirik  0.259615  2014-04-16  21:12:36.170486\n",
        "18         cervenym  0.076923  2014-04-16  21:12:45.661129\n",
        "19  sample M. Jirik  0.233010  2014-04-23  15:36:54.821274\n",
        "20         cervenym  0.000000  2014-04-23  15:36:54.824382\n",
        "21  sample M. Jirik  0.281553  2014-04-23  15:37:31.588206\n",
        "22         cervenym  0.000000  2014-04-23  15:37:31.591394\n",
        "23  sample M. Jirik  0.281553  2014-04-23  15:49:24.612530\n",
        "24         cervenym  0.000000  2014-04-23  15:49:24.615682\n",
        "25  sample M. Jirik  0.298077  2014-04-23  15:51:30.159132\n",
        "26         cervenym  0.000000  2014-04-23  15:51:30.162919\n",
        "27  sample M. Jirik  0.259615  2014-04-23  15:52:14.911190\n",
        "28         cervenym  0.000000  2014-04-23  15:52:14.912627\n",
        "29  sample M. Jirik  0.259615  2014-04-23  15:53:39.892102\n",
        "30         cervenym  0.000000  2014-04-23  15:53:39.893484\n",
        "31  sample M. Jirik  0.281553  2014-04-24  08:42:28.665234\n",
        "32         cervenym  0.135922  2014-04-24  08:42:38.219276\n",
        "33  sample M. Jirik  0.259615  2014-04-24  08:43:55.466716\n",
        "34         cervenym  0.076923  2014-04-24  08:44:04.944597\n",
        "35  sample M. Jirik  0.233010  2014-04-24  08:45:36.201998\n",
        "36         cervenym  0.116505  2014-04-24  08:45:45.849523\n",
        "37  sample M. Jirik  0.259615  2014-04-24  10:28:35.368010\n",
        "38         cervenym  0.076923  2014-04-24  10:28:44.906094\n",
        "39  sample M. Jirik  0.281553  2014-04-24  10:35:01.967263\n",
        "40         cervenym  0.135922  2014-04-24  10:35:11.382236\n",
        "41  sample M. Jirik  0.233010  2014-04-24  10:35:31.246842\n",
        "42         cervenym  0.116505  2014-04-24  10:35:40.744790\n",
        "43  sample M. Jirik  0.281553  2014-04-24  10:36:41.946399\n",
        "44         cervenym  0.135922  2014-04-24  10:36:51.404983\n",
        "45  sample M. Jirik  0.281553  2014-04-24  10:45:01.772830\n",
        "46         cervenym  0.135922  2014-04-24  10:45:11.192706\n",
        "47  sample M. Jirik  0.259615  2014-04-24  10:47:47.603506\n",
        "48         cervenym  0.076923  2014-04-24  10:47:57.121190\n",
        "49  sample M. Jirik  0.281553  2014-04-24  10:49:53.540418\n",
        "50         cervenym  0.135922  2014-04-24  10:50:02.942074\n",
        "51  sample M. Jirik  0.233010  2014-04-24  10:51:01.660715\n",
        "52         cervenym  0.116505  2014-04-24  10:51:11.103690\n",
        "53  sample M. Jirik  0.192308  2014-04-24  12:12:02.995509\n",
        "54         cervenym  0.076923  2014-04-24  12:12:12.605056\n",
        "55  sample M. Jirik  0.271845  2014-04-24  12:13:16.521381\n",
        "56         cervenym  0.067961  2014-04-24  12:13:26.011117\n",
        "57  sample M. Jirik  0.271845  2014-04-24  12:13:50.154330\n",
        "58         cervenym  0.067961  2014-04-24  12:13:59.662707\n",
        "59  sample M. Jirik  0.184466  2014-04-24  12:14:29.101708\n",
        "60         cervenym  0.116505  2014-04-24  12:14:38.589560\n",
        "61  sample M. Jirik  0.182692  2014-05-02  20:20:54.233897\n",
        "62         cervenym  0.586538  2014-05-02  20:21:04.013840\n",
        "63  sample M. Jirik  0.192308  2014-05-03  14:02:53.443580\n",
        "64         cervenym  0.615385  2014-05-03  14:03:03.196128\n",
        "65          nedvedj  0.000000  2014-05-03  14:03:03.198813\n",
        "66  sample M. Jirik  0.242718  2014-05-13  11:04:15.714182\n",
        "67         cervenym  0.689320  2014-05-13  11:04:25.312399\n",
        "68          nedvedj  0.000000  2014-05-13  11:04:25.315999\n",
        "69  sample M. Jirik  0.271845  2014-05-20  09:56:34.204228\n",
        "70         cervenym  0.601942  2014-05-20  09:56:43.683920\n",
        "71          nedvedj  0.000000  2014-05-20  09:56:44.332294\n",
        "72  sample M. Jirik  0.242718  2014-05-28  23:36:31.261551\n",
        "73         cervenym  0.689320  2014-05-28  23:36:40.773119\n",
        "74          nedvedj  0.000000  2014-05-28  23:36:43.435997\n",
        "75   RakHejdovaJuna  0.000000  2014-05-28  23:36:43.436388\n",
        "76  sample M. Jirik  0.242718  2014-05-28  23:39:49.617554\n",
        "77         cervenym  0.689320  2014-05-28  23:39:59.428269\n",
        "78          nedvedj  0.000000  2014-05-28  23:40:01.089426\n",
        "79   RakHejdovaJuna  0.000000  2014-05-28  23:40:01.113749\n",
        "80  sample M. Jirik  0.242718  2014-05-29  09:32:41.386213\n",
        "81         cervenym  0.689320  2014-05-29  09:32:51.004288\n",
        "82          nedvedj  0.000000  2014-05-29  09:32:53.276195\n",
        "83   RakHejdovaJuna  0.000000  2014-05-29  09:32:53.343385\n",
        "84  sample M. Jirik  0.192308  2014-05-30  09:14:20.629905\n",
        "85         cervenym  0.615385  2014-05-30  09:14:30.415715\n",
        "86          nedvedj  0.000000  2014-05-30  09:14:32.180694\n",
        "87   RakHejdovaJuna  0.000000  2014-05-30  09:14:32.181295\n",
        "88  sample M. Jirik  0.271845  2014-05-30  09:21:21.283251\n",
        "89         cervenym  0.601942  2014-05-30  09:21:30.983632\n",
        "90          nedvedj  0.000000  2014-05-30  09:21:31.832488\n",
        "91   RakHejdovaJuna  0.000000  2014-05-30  09:21:31.974057\n",
        "92  sample M. Jirik  0.182692  2014-05-30  13:07:06.811947\n",
        "93         cervenym  0.586538  2014-05-30  13:07:16.268667\n",
        "94          nedvedj  0.000000  2014-05-30  13:07:17.662896\n",
        "95   RakHejdovaJuna  0.000000  2014-05-30  13:07:17.795880\n",
        "96  RakHejdovaJuna2  0.759615  2014-05-30  13:07:23.646751\n"
       ]
      }
     ],
     "prompt_number": 3
    },
    {
     "cell_type": "heading",
     "level": 1,
     "metadata": {},
     "source": [
      "Logovac\u00ed soubor"
     ]
    },
    {
     "cell_type": "markdown",
     "metadata": {},
     "source": [
      "V pr\u016fb\u011bhu vyhodnocov\u00e1n\u00ed je vytv\u00e1\u0159en logovac\u00ed soubor. Nahl\u00e1dnout do n\u011bj m\u016f\u017eete [zde](https://raw.githubusercontent.com/mjirik/ZDO2014semestralky/master/znacky.log). Z\u00e1kladem je modul logging. Ten pak pou\u017e\u00edv\u00e1te nam\u00edsto printu. "
     ]
    },
    {
     "cell_type": "markdown",
     "metadata": {},
     "source": [
      "Tyto \u0159\u00e1dky p\u0159idejte na za\u010d\u00e1tek souboru k ostatn\u00edm import\u016fm"
     ]
    },
    {
     "cell_type": "code",
     "collapsed": false,
     "input": [
      "import logging\n",
      "logger = logging.getLogger(__name__)"
     ],
     "language": "python",
     "metadata": {},
     "outputs": [],
     "prompt_number": 4
    },
    {
     "cell_type": "markdown",
     "metadata": {},
     "source": [
      "Tento \u0159\u00e1dek p\u0159ijde do funkce main"
     ]
    },
    {
     "cell_type": "code",
     "collapsed": false,
     "input": [
      "logging.basicConfig(level=logging.DEBUG)"
     ],
     "language": "python",
     "metadata": {},
     "outputs": [],
     "prompt_number": 5
    },
    {
     "cell_type": "markdown",
     "metadata": {},
     "source": [
      "A takto si vypisujete libovoln\u00e9 zpr\u00e1vy pomoc\u00ed loggeru."
     ]
    },
    {
     "cell_type": "code",
     "collapsed": false,
     "input": [
      "logger.debug('muj vypis cislo ' + str(1))"
     ],
     "language": "python",
     "metadata": {},
     "outputs": [
      {
       "output_type": "stream",
       "stream": "stderr",
       "text": [
        "DEBUG:__main__:muj vypis cislo 1\n"
       ]
      }
     ],
     "prompt_number": 6
    },
    {
     "cell_type": "heading",
     "level": 1,
     "metadata": {},
     "source": [
      "Matice z\u00e1m\u011bn (confusion matrix)"
     ]
    },
    {
     "cell_type": "markdown",
     "metadata": {},
     "source": [
      "Matice z\u00e1m\u011bn ukazuje, kolikr\u00e1t byl label $i$ klasifikov\u00e1n jako $j$. V ide\u00e1ln\u00edm p\u0159\u00edpad\u011b jsou tedy nenulov\u00e1 \u010d\u00edsla pouze na diagon\u00e1le. Tam jsou spr\u00e1vn\u00e9 klasifikace. Jak to m\u011blo dopadnout ukazuj\u00ed data pojmenovan\u00e1 *reference*\n",
      "\n",
      "Zdrojov\u00e1 data lze naj\u00edt [zde](https://raw.githubusercontent.com/mjirik/ZDO2014semestralky/master/ZDO2014classifs.csv)"
     ]
    },
    {
     "cell_type": "code",
     "collapsed": false,
     "input": [
      "%pylab inline --no-import-all\n",
      "import sklearn\n",
      "import sklearn.metrics\n",
      "import matplotlib.pyplot as plt\n",
      "\n",
      "df = pd.read_csv(\"ZDO2014classifs.csv\")\n",
      "\n",
      "cols = df.columns\n",
      "\n",
      "\n",
      "print cols\n",
      "\n",
      "# z\u00edsk\u00e1me seznam v\u0161ech label\u016f zna\u010dek, kter\u00e9 jsou v testu\n",
      "unlabels = np.unique(df['reference'].values)\n",
      "# p\u0159evedeme do \u010d\u00edsel (index\u016f)\n",
      "y_true = np.searchsorted(unlabels, df['reference'].values)\n",
      "print unlabels\n",
      "\n",
      "for col in cols:\n",
      "    y_pred = np.searchsorted(unlabels, df[col].values)\n",
      "    cmat = sklearn.metrics.confusion_matrix(y_true, y_pred)\n",
      "    plt.matshow(cmat)\n",
      "    plt.title(col)"
     ],
     "language": "python",
     "metadata": {},
     "outputs": [
      {
       "output_type": "stream",
       "stream": "stdout",
       "text": [
        "Populating the interactive namespace from numpy and matplotlib\n",
        "array(['RakHejdovaJuna', 'RakHejdovaJuna2', 'cervenym', 'nedvedj',\n",
        "       'reference', 'sample M. Jirik'], dtype=object)"
       ]
      },
      {
       "output_type": "stream",
       "stream": "stdout",
       "text": [
        "\n",
        "['A11' 'A22' 'A24' 'B13' 'B16' 'B2' 'B20a' 'B21a' 'B24a' 'B24b' 'B28' 'B29'\n",
        " 'B4' 'C4a' 'C4c' 'E13' 'E2b' 'E3a' 'E4' 'E7b' 'E9' 'IJ4a' 'IJ4b' 'IJ7'\n",
        " 'IP11a' 'IP15a' 'IP15b' 'IP18b' 'IP19' 'IP5' 'IP6' 'IS12a' 'IS12b' 'IS18a'\n",
        " 'IS18b' 'IS23' 'IS24b' 'IS2c' 'IS3a' 'IS3b' 'IS3c' 'IS3d' 'IS5' 'IS6a'\n",
        " 'IS6b' 'IS6e' 'IS6f' 'IS6g' 'IS7a' 'IS8b' 'IS9a' 'P1' 'P2' 'P4' 'X1' 'X2'\n",
        " 'X3' 'Z3' 'Z4a' 'Z4b' 'Z4c' 'Z4d']\n"
       ]
      },
      {
       "metadata": {},
       "output_type": "display_data",
       "png": "[encoded data removed]",
       "text": [
        "<matplotlib.figure.Figure at 0x4663ed0>"
       ]
      },
      {
       "metadata": {},
       "output_type": "display_data",
       "png": "[encoded data removed]",
       "text": [
        "<matplotlib.figure.Figure at 0x47633d0>"
       ]
      },
      {
       "metadata": {},
       "output_type": "display_data",
       "png": "[encoded data removed]",
       "text": [
        "<matplotlib.figure.Figure at 0x4921890>"
       ]
      },
      {
       "metadata": {},
       "output_type": "display_data",
       "png": "[encoded data removed]",
       "text": [
        "<matplotlib.figure.Figure at 0x4aa6dd0>"
       ]
      },
      {
       "metadata": {},
       "output_type": "display_data",
       "png": "[encoded data removed]",
       "text": [
        "<matplotlib.figure.Figure at 0x4aa6d50>"
       ]
      },
      {
       "metadata": {},
       "output_type": "display_data",
       "png": "[encoded data removed]",
       "text": [
        "<matplotlib.figure.Figure at 0x4c4acd0>"
       ]
      }
     ],
     "prompt_number": 7
    }
   ],
   "metadata": {}
  }
 ]
}