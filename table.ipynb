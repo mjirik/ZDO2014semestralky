{
 "metadata": {
  "name": ""
 },
 "nbformat": 3,
 "nbformat_minor": 0,
 "worksheets": [
  {
   "cells": [
    {
     "cell_type": "heading",
     "level": 1,
     "metadata": {},
     "source": [
      "V\u0161echny experimenty"
     ]
    },
    {
     "cell_type": "code",
     "collapsed": false,
     "input": [
      "import pandas as pd\n",
      "orig_data = pd.read_csv(\"ZDO2014evaluation.csv\")\n",
      "print orig_data\n",
      "\n"
     ],
     "language": "python",
     "metadata": {},
     "outputs": [
      {
       "output_type": "stream",
       "stream": "stdout",
       "text": [
        "              team     score        date             time\n",
        "0  sample M. Jirik  0.281553  2014-04-15  13:42:50.240267\n",
        "1  sample M. Jirik  0.300971  2014-04-15  13:43:19.413250\n",
        "2  sample M. Jirik  0.233010  2014-04-15  13:43:32.353484\n"
       ]
      }
     ],
     "prompt_number": 7
    },
    {
     "cell_type": "heading",
     "level": 2,
     "metadata": {},
     "source": [
      "Se\u0159azeno od nejlep\u0161\u00edch"
     ]
    },
    {
     "cell_type": "code",
     "collapsed": false,
     "input": [
      "print orig_data.sort(column=['score'], ascending=False)"
     ],
     "language": "python",
     "metadata": {},
     "outputs": [
      {
       "output_type": "stream",
       "stream": "stdout",
       "text": [
        "              team     score        date             time\n",
        "1  sample M. Jirik  0.300971  2014-04-15  13:43:19.413250\n",
        "0  sample M. Jirik  0.281553  2014-04-15  13:42:50.240267\n",
        "2  sample M. Jirik  0.233010  2014-04-15  13:43:32.353484\n"
       ]
      }
     ],
     "prompt_number": 8
    }
   ],
   "metadata": {}
  }
 ]
}